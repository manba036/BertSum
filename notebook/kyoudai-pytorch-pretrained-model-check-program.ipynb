{
 "cells": [
  {
   "cell_type": "markdown",
   "metadata": {},
   "source": [
    "# 京大のBERT日本語Pretrainedモデル(pytorch版)でmask言語モデルを試す\n",
    "【参考】 https://qiita.com/masaki_sfc/items/1564cf9122db7ed47096"
   ]
  },
  {
   "cell_type": "markdown",
   "metadata": {},
   "source": [
    "## model/tokenizerを初期化"
   ]
  },
  {
   "cell_type": "code",
   "execution_count": 1,
   "metadata": {},
   "outputs": [],
   "source": [
    "import torch\n",
    "from pytorch_pretrained_bert import BertTokenizer, BertForPreTraining, modeling\n",
    "from pyknp import Juman"
   ]
  },
  {
   "cell_type": "code",
   "execution_count": 2,
   "metadata": {},
   "outputs": [],
   "source": [
    "config = modeling.BertConfig(\n",
    "    vocab_size_or_config_json_file=32006,\n",
    "    hidden_size=768, \n",
    "    num_hidden_layers=12,\n",
    "    num_attention_heads=12, \n",
    "    intermediate_size=3072\n",
    ")\n",
    "model = BertForPreTraining(config=config)"
   ]
  },
  {
   "cell_type": "code",
   "execution_count": 3,
   "metadata": {},
   "outputs": [],
   "source": [
    "model.load_state_dict(torch.load(\"../models/Japanese_L-12_H-768_A-12_E-30_BPE/pytorch_model.bin\"))\n",
    "tokenizer = BertTokenizer(\"../models/Japanese_L-12_H-768_A-12_E-30_BPE/vocab.txt\", do_lower_case=False)"
   ]
  },
  {
   "cell_type": "code",
   "execution_count": 4,
   "metadata": {},
   "outputs": [],
   "source": [
    "jm = Juman()"
   ]
  },
  {
   "cell_type": "markdown",
   "metadata": {},
   "source": [
    "## MASK文を準備"
   ]
  },
  {
   "cell_type": "code",
   "execution_count": 5,
   "metadata": {},
   "outputs": [],
   "source": [
    "TEXT = \"今日は良い天気でサッカーがしたくなりますね。\""
   ]
  },
  {
   "cell_type": "code",
   "execution_count": 6,
   "metadata": {},
   "outputs": [],
   "source": [
    "res = jm.analysis(TEXT)"
   ]
  },
  {
   "cell_type": "code",
   "execution_count": 7,
   "metadata": {},
   "outputs": [],
   "source": [
    "tokens = [\"[CLS]\"] + [i.midasi for i in res.mrph_list()]"
   ]
  },
  {
   "cell_type": "code",
   "execution_count": 8,
   "metadata": {},
   "outputs": [
    {
     "data": {
      "text/plain": [
       "['[CLS]',\n",
       " '今日',\n",
       " 'は',\n",
       " '良い',\n",
       " '天気',\n",
       " 'で',\n",
       " 'サッカー',\n",
       " 'が',\n",
       " 'し',\n",
       " 'たく',\n",
       " 'なり',\n",
       " 'ます',\n",
       " 'ね',\n",
       " '。']"
      ]
     },
     "execution_count": 8,
     "metadata": {},
     "output_type": "execute_result"
    }
   ],
   "source": [
    "tokens"
   ]
  },
  {
   "cell_type": "code",
   "execution_count": 9,
   "metadata": {},
   "outputs": [],
   "source": [
    "tokens[6] = \"[MASK]\""
   ]
  },
  {
   "cell_type": "code",
   "execution_count": 10,
   "metadata": {},
   "outputs": [],
   "source": [
    "tokens = tokenizer.tokenize(\" \".join(tokens))\n",
    "ids = tokenizer.convert_tokens_to_ids(tokens)"
   ]
  },
  {
   "cell_type": "markdown",
   "metadata": {},
   "source": [
    "## MASK文を確認"
   ]
  },
  {
   "cell_type": "code",
   "execution_count": 11,
   "metadata": {},
   "outputs": [
    {
     "name": "stdout",
     "output_type": "stream",
     "text": [
      "#   id     token\n",
      " 0  2      [CLS]\n",
      " 1  2281   今日\n",
      " 2  9      は\n",
      " 3  2421   良い\n",
      " 4  9292   天気\n",
      " 5  13     で\n",
      " 6  4      [MASK]\n",
      " 7  11     が\n",
      " 8  31     し\n",
      " 9  5828   たく\n",
      "10  105    なり\n",
      "11  1953   ます\n",
      "12  2382   ね\n",
      "13  7      。\n"
     ]
    }
   ],
   "source": [
    "print(\"#   id     token\")\n",
    "for i, j in enumerate(tokens):\n",
    "    print(\"{:2d}  {:<5d}  {}\".format(i, ids[i], j))"
   ]
  },
  {
   "cell_type": "markdown",
   "metadata": {},
   "source": [
    "## MASK部分を推測"
   ]
  },
  {
   "cell_type": "code",
   "execution_count": 12,
   "metadata": {},
   "outputs": [],
   "source": [
    "ids = torch.tensor(ids).reshape(1,-1)\n",
    "model.eval()\n",
    "with torch.no_grad():\n",
    "    output, _ = model(ids)"
   ]
  },
  {
   "cell_type": "code",
   "execution_count": 13,
   "metadata": {},
   "outputs": [
    {
     "name": "stdout",
     "output_type": "stream",
     "text": [
      "[CLS] 今日 は 良い 天気 で [MASK] が し たく なり ます ね 。\n",
      "\n",
      "rank   スコア   token\n",
      "  1   8.7932  仕事\n",
      "  2   7.8080  話\n",
      "  3   7.1951  ゲーム\n",
      "  4   6.6053  食事\n",
      "  5   6.4928  勉強\n",
      "  6   6.4125  試合\n",
      "  7   6.2921  旅\n",
      "  8   6.1778  歌\n",
      "  9   6.0824  買い物\n",
      " 10   6.0327  サーフィン\n",
      " 11   5.9291  遊び\n",
      " 12   5.7836  レース\n",
      " 13   5.7719  ライブ\n",
      " 14   5.5982  掃除\n",
      " 15   5.5943  レコーディング\n",
      " 16   5.5247  練習\n",
      " 17   5.0662  ドラマ\n",
      " 18   5.0646  生活\n",
      " 19   5.0603  [UNK]\n",
      " 20   5.0379  議論\n"
     ]
    }
   ],
   "source": [
    "MASK_POS = 6\n",
    "print(\" \".join(tokens))\n",
    "print()\n",
    "print(\"rank   スコア   token\")\n",
    "for i, j in enumerate(output[0][MASK_POS].argsort(descending=True)[:20]):\n",
    "    print(\" {:2d}   {:6.4f}  {}\".format(i+1, output[0][MASK_POS][j].item(), tokenizer.ids_to_tokens[j.item()]))"
   ]
  },
  {
   "cell_type": "code",
   "execution_count": null,
   "metadata": {},
   "outputs": [],
   "source": []
  }
 ],
 "metadata": {
  "file_extension": ".py",
  "kernelspec": {
   "display_name": "Python 3",
   "language": "python",
   "name": "python3"
  },
  "language_info": {
   "codemirror_mode": {
    "name": "ipython",
    "version": 3
   },
   "file_extension": ".py",
   "mimetype": "text/x-python",
   "name": "python",
   "nbconvert_exporter": "python",
   "pygments_lexer": "ipython3",
   "version": "3.6.8"
  },
  "mimetype": "text/x-python",
  "name": "python",
  "npconvert_exporter": "python",
  "pygments_lexer": "ipython3",
  "version": 3
 },
 "nbformat": 4,
 "nbformat_minor": 4
}
